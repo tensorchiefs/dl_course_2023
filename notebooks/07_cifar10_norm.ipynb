{
 "cells": [
  {
   "cell_type": "markdown",
   "metadata": {
    "colab_type": "text",
    "id": "tbTYFRhJoaBu"
   },
   "source": [
    "# Cifar10 classification with and without normalization\n",
    "\n",
    "In this notebook you will download the cifar10 dataset which contains quite small images (32x32x3) of 10 classes. The data is from the Canadian Institute For Advanced Research. You will plot examples of the images with the class label. Note that because the images are so small it's not always very easy to recoginse which of the ten classes is on the image, even as a human. After loading the dataset you will train a Convolutional Neural Network to predict the the test dataset. You will train the neural network once with normalized data and once without.\n",
    "\n",
    "\n",
    "**Dataset:**  You work with the Cifar10 dataset. You have 60'000 32x32 pixel color images of 10 classes (\"airplane\",\"automobile\",\"bird\",\"cat\",\"deer\",\"dog\",\"frog\",\"horse\",\"ship\",\"truck\")\n",
    "\n",
    "**Content:**\n",
    "* load the original cifar10 data and create a train, validation and test dataset\n",
    "* visualize samples of cifar10 dataset\n",
    "* use keras to train a CNN with the normalized and the unnormalized version of the data\n",
    "* check if the normalization has an impact on the test performance of the data\n",
    "\n"
   ]
  },
  {
   "cell_type": "markdown",
   "metadata": {
    "colab_type": "text",
    "id": "PEIS4WvpsT5t"
   },
   "source": [
    "#### Imports\n"
   ]
  },
  {
   "cell_type": "code",
   "execution_count": null,
   "metadata": {
    "colab": {},
    "colab_type": "code",
    "id": "Y6S_hQX5oaBw",
    "scrolled": true
   },
   "outputs": [],
   "source": [
    "# load required libraries:\n",
    "import numpy as np\n",
    "import matplotlib.pyplot as plt\n",
    "%matplotlib inline\n",
    "plt.style.use('default')\n",
    "from sklearn.metrics import confusion_matrix\n",
    "\n",
    "from tensorflow.keras.models import Sequential\n",
    "from tensorflow.keras.layers import Dense, Convolution2D, MaxPooling2D, Flatten , Activation\n",
    "from tensorflow.keras.utils import to_categorical \n",
    "from tensorflow.keras import optimizers\n"
   ]
  },
  {
   "cell_type": "markdown",
   "metadata": {
    "colab_type": "text",
    "id": "Y7kfDCYsxRVJ"
   },
   "source": [
    "\n",
    "### Load and plot the data\n",
    "\n",
    "In the next cell you will load the Cifar10 dataset, 50'000 images are in the training set and 10'000 are in the test dataset. You will use 10'000 for the train and validation dataset.\n",
    "You will plot one random example of each label and will see\n",
    "that the images are really small. Finally you will one hot encode the lables.\n"
   ]
  },
  {
   "cell_type": "code",
   "execution_count": null,
   "metadata": {
    "colab": {},
    "colab_type": "code",
    "id": "WRLfhCzVviwL"
   },
   "outputs": [],
   "source": [
    "from tensorflow.keras.datasets import cifar10\n",
    "(x_train, y_train), (x_test, y_test) = cifar10.load_data()"
   ]
  },
  {
   "cell_type": "code",
   "execution_count": null,
   "metadata": {
    "colab": {
     "base_uri": "https://localhost:8080/",
     "height": 68
    },
    "colab_type": "code",
    "id": "4sZ8lqFfoaB2",
    "outputId": "c784e074-dbf2-45cc-d586-9c585e4ace86"
   },
   "outputs": [],
   "source": [
    "# separate train val and test dataset\n",
    "X_train=x_train[0:10000] \n",
    "Y_train=to_categorical(y_train[0:10000],10) # one-hot encoding\n",
    "\n",
    "X_val=x_train[20000:30000] \n",
    "Y_val=to_categorical(y_train[20000:30000],10)\n",
    "\n",
    "X_test=x_test \n",
    "Y_test=to_categorical(y_test,10)\n",
    "\n",
    "del x_train, y_train, x_test, y_test\n",
    "\n",
    "\n",
    "print(X_train.shape)\n",
    "print(X_val.shape)\n",
    "print(X_test.shape)"
   ]
  },
  {
   "cell_type": "code",
   "execution_count": null,
   "metadata": {
    "colab": {
     "base_uri": "https://localhost:8080/",
     "height": 181
    },
    "colab_type": "code",
    "id": "c4gUgwGUeftF",
    "outputId": "c5e238ff-2b23-45ae-cfcd-481f6f883179"
   },
   "outputs": [],
   "source": [
    "labels=np.array([\"airplane\",\"automobile\",\"bird\",\"cat\",\"deer\",\"dog\",\"frog\",\"horse\",\"ship\",\"truck\"])\n",
    "#sample image of each label\n",
    "plt.figure(figsize=(15,15))\n",
    "for i in range(0,len(np.unique(np.argmax(Y_train,axis=1)))):\n",
    "    rmd=np.random.choice(np.where(np.argmax(Y_train,axis=1)==i)[0],1)\n",
    "    plt.subplot(1,10,i+1)\n",
    "    img=X_train[rmd]\n",
    "    plt.imshow(img[0,:,:,:])\n",
    "    plt.title(labels[i] + \" \" + str(np.argmax(Y_train,axis=1)[rmd][0]))"
   ]
  },
  {
   "cell_type": "code",
   "execution_count": null,
   "metadata": {
    "colab": {
     "base_uri": "https://localhost:8080/",
     "height": 34
    },
    "colab_type": "code",
    "id": "iq45_Gs1HJk1",
    "outputId": "1e381cf5-a14d-4791-b4c5-3527a0d5082e"
   },
   "outputs": [],
   "source": [
    "# check the shape of the data\n",
    "X_train.shape,Y_train.shape,X_val.shape,Y_val.shape"
   ]
  },
  {
   "cell_type": "markdown",
   "metadata": {
    "colab_type": "text",
    "id": "ZaRFUEP8HJkq"
   },
   "source": [
    "# CNN as classification model for the Cifar10 dataset\n",
    "Now it's your turn, train two CNNs with the same architecture.\n",
    "* One CNN should be with the original image data (no normalization)\n",
    "* One CNN should be with the normalized image data \n",
    "* Use the train data to fit the model, the validation to validate the training and the test dataset for the performance estimation on new unseen data.\n",
    "\n",
    "Use the following hyperparameters \n",
    "\n",
    "- the relu activation function  \n",
    "- kernelsize of 3x3  \n",
    "- poolingsize of 2x2   \n",
    "- use 2 convolutional layers with 8 filters and then a maxpooling layer followed by again 2 convolutional layers with 16 filters and then a maxpooling layer \n",
    "- then we flatten the output and use a fully connected layer with 40 nodes and the output has 10 nodes with the softmax activation.\n",
    "\n",
    "Compare the performance of the network with and without normalization on the testdataset. What do you observe?"
   ]
  },
  {
   "cell_type": "markdown",
   "metadata": {
    "colab_type": "text",
    "id": "1u1rS7d55K4J"
   },
   "source": [
    "### Without normalization"
   ]
  },
  {
   "cell_type": "code",
   "execution_count": null,
   "metadata": {
    "colab": {},
    "colab_type": "code",
    "id": "3xwh0iYrHJk_"
   },
   "outputs": [],
   "source": [
    "### Your code here ####\n",
    "\n",
    "\n"
   ]
  },
  {
   "cell_type": "markdown",
   "metadata": {
    "colab_type": "text",
    "id": "Res2fNuO6DRO"
   },
   "source": [
    "### With normalization"
   ]
  },
  {
   "cell_type": "markdown",
   "metadata": {
    "colab_type": "text",
    "id": "amzYT-EHvZqp"
   },
   "source": [
    "We reload the original images and normalize this time by dividing with 255."
   ]
  },
  {
   "cell_type": "code",
   "execution_count": null,
   "metadata": {
    "colab": {},
    "colab_type": "code",
    "id": "WpZEZWeU57of"
   },
   "outputs": [],
   "source": [
    "### Your code here ####\n",
    "\n",
    "\n"
   ]
  }
 ],
 "metadata": {
  "accelerator": "GPU",
  "colab": {
   "collapsed_sections": [],
   "name": "07_cifar10_norm.ipynb",
   "provenance": []
  },
  "kernelspec": {
   "display_name": "Python 3 (ipykernel)",
   "language": "python",
   "name": "python3"
  },
  "language_info": {
   "codemirror_mode": {
    "name": "ipython",
    "version": 3
   },
   "file_extension": ".py",
   "mimetype": "text/x-python",
   "name": "python",
   "nbconvert_exporter": "python",
   "pygments_lexer": "ipython3",
   "version": "3.7.11"
  }
 },
 "nbformat": 4,
 "nbformat_minor": 1
}
